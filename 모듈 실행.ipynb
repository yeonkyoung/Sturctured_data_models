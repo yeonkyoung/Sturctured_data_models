{
 "cells": [
  {
   "cell_type": "code",
   "execution_count": 1,
   "metadata": {},
   "outputs": [
    {
     "name": "stdout",
     "output_type": "stream",
     "text": [
      "['C:\\\\Users\\\\KIMYEONKYOUNG\\\\Desktop\\\\2021 AI 빅데이터팀\\\\메탈 수요예측\\\\code', 'C:\\\\ProgramData\\\\Anaconda3\\\\python38.zip', 'C:\\\\ProgramData\\\\Anaconda3\\\\DLLs', 'C:\\\\ProgramData\\\\Anaconda3\\\\lib', 'C:\\\\ProgramData\\\\Anaconda3', '', 'C:\\\\ProgramData\\\\Anaconda3\\\\lib\\\\site-packages', 'C:\\\\ProgramData\\\\Anaconda3\\\\lib\\\\site-packages\\\\win32', 'C:\\\\ProgramData\\\\Anaconda3\\\\lib\\\\site-packages\\\\win32\\\\lib', 'C:\\\\ProgramData\\\\Anaconda3\\\\lib\\\\site-packages\\\\Pythonwin', 'C:\\\\ProgramData\\\\Anaconda3\\\\lib\\\\site-packages\\\\IPython\\\\extensions', 'C:\\\\Users\\\\KIMYEONKYOUNG\\\\.ipython', 'Desktop/2021 AI 빅데이터팀/메탈 수요예측/code/']\n"
     ]
    },
    {
     "name": "stderr",
     "output_type": "stream",
     "text": [
      "C:\\Users\\KIMYEONKYOUNG\\Desktop\\2021 AI 빅데이터팀\\메탈 수요예측\\code\\LSTM_module.py:4: FutureWarning: The pandas.datetime class is deprecated and will be removed from pandas in a future version. Import from datetime module instead.\n",
      "  from pandas import datetime\n"
     ]
    }
   ],
   "source": [
    "import pandas as pd\n",
    "import numpy as np\n",
    "import seaborn as sns\n",
    "from openpyxl import Workbook, drawing\n",
    "\n",
    "#만든 모듈을 불러옴\n",
    "import sys\n",
    "from importlib import reload\n",
    "sys.path.append('Desktop/2021 AI 빅데이터팀/메탈 수요예측/code/') \n",
    "print(sys.path)\n",
    "import LSTM_module as lstm"
   ]
  },
  {
   "cell_type": "code",
   "execution_count": 2,
   "metadata": {},
   "outputs": [],
   "source": [
    "data=pd.read_excel('C:/Users/KIMYEONKYOUNG/Desktop/2021 AI 빅데이터팀/메탈 수요예측/data/pre_v0.1_합계제거.xlsx')"
   ]
  },
  {
   "cell_type": "markdown",
   "metadata": {},
   "source": [
    "# LSTM"
   ]
  },
  {
   "cell_type": "code",
   "execution_count": null,
   "metadata": {},
   "outputs": [],
   "source": [
    "#model structure\n",
    "simple_lstm_model = tf.keras.models.Sequential([\n",
    "tf.keras.layers.LSTM(10, activation = 'relu', input_shape=(n_steps,1),return_sequences=True),\n",
    "tf.keras.layers.Dropout(0.2),\n",
    "tf.keras.layers.LSTM(20, activation = 'relu', input_shape=(n_steps,1),return_sequences=True),\n",
    "tf.keras.layers.Dropout(0.2),\n",
    "tf.keras.layers.LSTM(10, activation = 'relu', input_shape=(n_steps,1)), \n",
    "tf.keras.layers.Dropout(0.2),\n",
    "tf.keras.layers.Dense(5),   \n",
    "tf.keras.layers.Dense(1)])"
   ]
  },
  {
   "cell_type": "code",
   "execution_count": null,
   "metadata": {},
   "outputs": [],
   "source": [
    "col_list=['삼성전자_실적','태성전기_실적','Cambridge Lee_실적']\n",
    "com_col_list=['삼성전자_이동','태성전기_이동','Cambridge Lee_이동']\n",
    "use_date_max_list=['2018-03-01','2018-09-01','2019-03-01','2019-09-01','2020-03-01','2020-09-01','2021-03-01']"
   ]
  },
  {
   "cell_type": "code",
   "execution_count": null,
   "metadata": {},
   "outputs": [],
   "source": [
    "for col in col_list :\n",
    "    com_col=[word for word in com_col_list if col[0:4] in word][0]\n",
    "    print(col,com_col)\n",
    "    \n",
    "    for use_date_max in use_date_max_list:\n",
    "        lstm.LSTM_uni_train(raw_data=data,use_date_max=use_date_max,col=col,com_col=com_col,scale='minmax',test_h=1,n_steps=5,n_features=1,BATCH_SIZE=1,BUFFER_SIZE=100,model=simple_lstm_model,EVALUATION_INTERVAL = 100,EPOCHS = 1000,optimizer='adam',loss='mse',metrics=['mse'],saveroot='C:/Users/KIMYEONKYOUNG/Desktop/2021 AI 빅데이터팀/메탈 수요예측/code/model_회사별/')  #scaleoption : None,standard,minmax,robust # n_features = 1 (univariate) \n",
    "        print(use_date_max)\n",
    "   \n",
    "   "
   ]
  },
  {
   "cell_type": "markdown",
   "metadata": {},
   "source": [
    "### 영업사원 예측 RMSE 계산"
   ]
  },
  {
   "cell_type": "code",
   "execution_count": null,
   "metadata": {},
   "outputs": [],
   "source": [
    "ts_data_sil=data2tsdata(raw_data=data,col='Cambridge Lee_실적')\n",
    "ts_data_plan=data2tsdata(raw_data=data,col='Cambridge Lee_이동')\n",
    "ts_data=pd.merge(ts_data_sil,ts_data_plan,left_index=True, right_index=True)\n",
    "ts_data['sq_error']=(ts_data.iloc[:,0]-ts_data.iloc[:,1])**2\n",
    "compare=ts_data[(ts_data.index=='2018.03')|(ts_data.index=='2018.09')|(ts_data.index=='2019.03')|(ts_data.index=='2019.09')|(ts_data.index=='2020.03')|(ts_data.index=='2020.09')|(ts_data.index=='2021.03')]\n",
    "rmse=np.sqrt(sum(compare['sq_error'])/compare.shape[0])\n",
    "print(rmse)"
   ]
  },
  {
   "cell_type": "code",
   "execution_count": null,
   "metadata": {},
   "outputs": [],
   "source": [
    "compare"
   ]
  }
 ],
 "metadata": {
  "kernelspec": {
   "display_name": "Python 3",
   "language": "python",
   "name": "python3"
  },
  "language_info": {
   "codemirror_mode": {
    "name": "ipython",
    "version": 3
   },
   "file_extension": ".py",
   "mimetype": "text/x-python",
   "name": "python",
   "nbconvert_exporter": "python",
   "pygments_lexer": "ipython3",
   "version": "3.8.5"
  }
 },
 "nbformat": 4,
 "nbformat_minor": 4
}
